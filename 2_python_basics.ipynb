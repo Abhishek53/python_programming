{
 "cells": [
  {
   "cell_type": "markdown",
   "id": "accompanied-migration",
   "metadata": {},
   "source": [
    "# Recap - Python basics \n",
    "* Video :\n",
    "* Notebook reference :\n",
    "\n",
    "\n",
    "# Python Operators\n",
    "\n",
    "1. Python Arithmetic Operators\n",
    "2. Python Comparison Operators\n",
    "3. Python Logical Operators\n",
    "\n",
    "\n",
    "4. Python Identity Operators\n",
    "5. Python Bitwise Operators\n",
    "6. Python Assignment Operators\n",
    "7. Python Membership Operators\n",
    "<br>\n",
    "\n",
    "## Lets learn about remaining operators 😄😄\n",
    "\n",
    "# 4. Identity operators\n",
    "<img src=\"python_tutorial_images/identity_operators.jpg\">\n",
    "\n",
    "\n"
   ]
  },
  {
   "cell_type": "code",
   "execution_count": 9,
   "id": "brown-agreement",
   "metadata": {},
   "outputs": [
    {
     "name": "stdout",
     "output_type": "stream",
     "text": [
      "5 is 6 = False\n",
      "5 is 5 = True\n",
      "5 is not 5 = False\n"
     ]
    }
   ],
   "source": [
    "#identity operators\n",
    "a = 5\n",
    "b = 6\n",
    "print(f\"{a} is {b} = {a is b}\")\n",
    "b = a\n",
    "print(f\"{a} is {b} = {a is b}\")\n",
    "\n",
    "print(f\"{a} is not {b} = {a is not b}\")"
   ]
  },
  {
   "cell_type": "markdown",
   "id": "secret-budget",
   "metadata": {},
   "source": [
    "# ENIAC - 1946 FIRST EVER DIGITAL COMPUTER \n",
    "<img src=\"python_tutorial_images/eniac.jpg\" width = 80% >\n",
    "\n",
    "\n",
    "# 5. Python Bitwise Operators\n",
    "<img src=\"python_tutorial_images/bitwise_operators.jpg\" >\n",
    "\n",
    "<br>\n",
    "\n",
    "<img src=\"python_tutorial_images/bitwise_explanation.jpg\" >"
   ]
  },
  {
   "cell_type": "code",
   "execution_count": 10,
   "id": "latest-composition",
   "metadata": {},
   "outputs": [
    {
     "name": "stdout",
     "output_type": "stream",
     "text": [
      "2 & 3 = 2\n",
      "2 | 3 = 3\n",
      "2 ^ 3 = 1\n",
      "2 << 1 = 4\n",
      "2 >> 1 = 1\n"
     ]
    }
   ],
   "source": [
    "#bitwise operators\n",
    "a = 2\n",
    "b = 3\n",
    "\n",
    "print(f\"{a} & {b} = {a & b}\")\n",
    "print(f\"{a} | {b} = {a | b}\")\n",
    "print(f\"{a} ^ {b} = {a ^ b}\")\n",
    "\n",
    "a = 2\n",
    "b = 1\n",
    "print(f\"{a} << {b} = {a << b}\")\n",
    "print(f\"{a} >> {b} = {a >> b}\")"
   ]
  },
  {
   "cell_type": "markdown",
   "id": "committed-indicator",
   "metadata": {},
   "source": [
    "# 6. Python Assignment Operators\n",
    "<img src=\"python_tutorial_images/assignment_operators.jpg\" >\n"
   ]
  },
  {
   "cell_type": "code",
   "execution_count": 11,
   "id": "italic-rogers",
   "metadata": {},
   "outputs": [
    {
     "name": "stdout",
     "output_type": "stream",
     "text": [
      "a += b is 15\n",
      "a -= b is 5\n",
      "a *= b is 50\n",
      "a /= b is 2.0\n",
      "a **= b is 100000\n",
      "a &= b is 0\n",
      "a |= b is 3\n",
      "a >>= b is 1\n",
      "a <<= b is 4\n",
      "a ^= b is 3\n"
     ]
    }
   ],
   "source": [
    "a, b = 10, 5\n",
    "a += b\n",
    "print(f\"a += b is {a}\")\n",
    "\n",
    "a, b = 10,5\n",
    "a -= b\n",
    "print(f\"a -= b is {a}\")\n",
    "\n",
    "a, b = 10, 5\n",
    "a *= b\n",
    "print(f\"a *= b is {a}\")\n",
    "\n",
    "a, b = 10, 5\n",
    "a /= b\n",
    "print(f\"a /= b is {a}\")\n",
    "\n",
    "a, b = 10, 5\n",
    "a **= b\n",
    "print(f\"a **= b is {a}\")\n",
    "\n",
    "\n",
    "a, b = 2, 1\n",
    "a &= b\n",
    "print(f\"a &= b is {a}\")\n",
    "\n",
    "\n",
    "a, b = 2, 1\n",
    "a |= b\n",
    "print(f\"a |= b is {a}\")\n",
    "\n",
    "a, b = 2, 1\n",
    "a >>= b\n",
    "print(f\"a >>= b is {a}\")\n",
    "\n",
    "a, b = 2, 1\n",
    "a <<= b\n",
    "print(f\"a <<= b is {a}\")\n",
    "\n",
    "\n",
    "a, b = 2, 1\n",
    "a ^= b\n",
    "print(f\"a ^= b is {a}\")\n",
    "\n",
    "\n"
   ]
  },
  {
   "cell_type": "markdown",
   "id": "integral-still",
   "metadata": {},
   "source": [
    "# Precedence and Associativity\n",
    "<img src=\"python_tutorial_images/precedence_and_associativity.png\" >\n"
   ]
  },
  {
   "cell_type": "code",
   "execution_count": 12,
   "id": "naughty-display",
   "metadata": {},
   "outputs": [
    {
     "name": "stdout",
     "output_type": "stream",
     "text": [
      "20\n"
     ]
    }
   ],
   "source": [
    "#precedence and associativity\n",
    "a = 10\n",
    "b = 5\n",
    "c = 2\n",
    "print(a + b * c)"
   ]
  },
  {
   "cell_type": "markdown",
   "id": "civilian-sponsorship",
   "metadata": {},
   "source": [
    "# 7. Python Membership Operators\n",
    "<img src=\"python_tutorial_images/membership_operators.jpg\" >"
   ]
  },
  {
   "cell_type": "code",
   "execution_count": 13,
   "id": "missing-surveillance",
   "metadata": {
    "scrolled": true
   },
   "outputs": [
    {
     "name": "stdout",
     "output_type": "stream",
     "text": [
      "red in ['red', 'green', 'blue'] is True\n",
      "black in ['red', 'green', 'blue'] is  False\n"
     ]
    }
   ],
   "source": [
    "#Membership operators\n",
    "colors = ['red', 'green', 'blue']\n",
    "check = 'red' in colors\n",
    "print(f\"red in {colors} is {check}\")\n",
    "check = 'black' in colors\n",
    "print(f\"black in {colors} is  {check}\")"
   ]
  },
  {
   "cell_type": "markdown",
   "id": "amino-preservation",
   "metadata": {},
   "source": [
    "# HOW TO READ VALUES OR TAKE INPUT FORM USER?"
   ]
  },
  {
   "cell_type": "code",
   "execution_count": 14,
   "id": "subject-appointment",
   "metadata": {
    "scrolled": true
   },
   "outputs": [
    {
     "name": "stdout",
     "output_type": "stream",
     "text": [
      "Enter the color you want to find : red\n",
      "red in ['red', 'green', 'blue'] is True\n"
     ]
    }
   ],
   "source": [
    "val = input(\"Enter the color you want to find : \")\n",
    "check = val in colors\n",
    "print(f\"{val} in {colors} is {check}\")"
   ]
  },
  {
   "cell_type": "markdown",
   "id": "accompanied-element",
   "metadata": {},
   "source": [
    "# COMMENTS IN PYTHON"
   ]
  },
  {
   "cell_type": "code",
   "execution_count": 15,
   "id": "union-george",
   "metadata": {},
   "outputs": [
    {
     "name": "stdout",
     "output_type": "stream",
     "text": [
      "Hello python welcome\n"
     ]
    }
   ],
   "source": [
    "#This is a single line comment\n",
    "print(\"Hello python welcome\")"
   ]
  },
  {
   "cell_type": "code",
   "execution_count": 16,
   "id": "technological-elephant",
   "metadata": {},
   "outputs": [
    {
     "name": "stdout",
     "output_type": "stream",
     "text": [
      "Hello python welcome\n"
     ]
    }
   ],
   "source": [
    "\"\"\"\n",
    "This is\n",
    "a  multi line comment\n",
    "\"\"\"\n",
    "print(\"Hello python welcome\")"
   ]
  },
  {
   "cell_type": "markdown",
   "id": "educational-needle",
   "metadata": {},
   "source": [
    "# KEEP LEARNING, KEEP TEACHING, KEEP SHARING !!!\n",
    "# Thank YOU, Lets meet in next tutorial  🙂"
   ]
  }
 ],
 "metadata": {
  "kernelspec": {
   "display_name": "Python 3",
   "language": "python",
   "name": "python3"
  },
  "language_info": {
   "codemirror_mode": {
    "name": "ipython",
    "version": 3
   },
   "file_extension": ".py",
   "mimetype": "text/x-python",
   "name": "python",
   "nbconvert_exporter": "python",
   "pygments_lexer": "ipython3",
   "version": "3.8.5"
  }
 },
 "nbformat": 4,
 "nbformat_minor": 5
}
