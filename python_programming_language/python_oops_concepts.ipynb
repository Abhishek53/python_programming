{
 "cells": [
  {
   "cell_type": "markdown",
   "metadata": {},
   "source": [
    "# Classes object and special functions of classes\n",
    "Built-In Class Attributes\n",
    "Every Python class keeps following built-in attributes and they can be accessed using dot operator like any other attribute −\n",
    "\n",
    " 1. __ dict __ − Dictionary containing the class's namespace.\n",
    "\n",
    " 2. __ do c__ − Class documentation string or none, if undefined.\n",
    "\n",
    " 3. __ name __ − Class name.\n",
    "\n",
    " 4. __ module __ − Module name in which the class is defined. This attribute is    5. \"__ main __\" in interactive mode.\n",
    "\n",
    " 6. __ bases __ − A possibly empty tuple containing the base classes, in the order of their occurrence in the base class list."
   ]
  },
  {
   "cell_type": "code",
   "execution_count": null,
   "metadata": {},
   "outputs": [],
   "source": [
    "class Employee:\n",
    "    \"\"\" Employee class having empliyee details attributes and Total employee methods\"\"\"\n",
    "\n",
    "    emp_count = 0;\n",
    "    \n",
    "    #data hiding not visible outside the class\n",
    "    __secretcompanycode = 56535\n",
    "    \n",
    "    def __init__(self, name:str, salary:int):\n",
    "        self.name = name;\n",
    "        self.salary = salary;\n",
    "        Employee.emp_count += 1;\n",
    "        \n",
    "    def __del__(self):\n",
    "        #overriding class built in methods\n",
    "        class_name = self.__class__.__name__;\n",
    "        print(class_name,\" is destroyed\")\n",
    "        \n",
    "    def __str__(self):\n",
    "        #overriding class built in methods\n",
    "        return \"This is an employee instance having atributes name:{}, salary{}\".format(self.name, self.salary)\n",
    "    \n",
    "    def getCompanySecretCode(self):\n",
    "        print(\"\\nCompany secret code is {}\".format(self.__secretcompanycode))\n",
    "        \n",
    "        \n",
    "    def displayTotalEmployees(self):\n",
    "        print(\"Total number of employees {}\".format(Employee.emp_count));\n",
    "    \n",
    "    def getEmployeeDetails(self):\n",
    "        print(\"\\n\\nName: {} \\nSalary: {}\".format(self.name, self.salary))\n",
    "\n",
    "emp1 = Employee(\"abhi\", 200)\n",
    "emp2 = Employee(\"John\", 300)\n",
    "\n",
    "emp1.displayTotalEmployees()\n",
    "emp1.getEmployeeDetails()\n",
    "\n",
    "print(\"\\n\\nEmployee.__doc__:\", Employee.__doc__)\n",
    "print(\"\\n\\nEmployee.__name__:\", Employee.__name__)\n",
    "print(\"\\n\\nEmployee.__module__:\", Employee.__module__)\n",
    "print(\"\\n\\nEmployee.__bases__:\", Employee.__bases__)\n",
    "print(\"\\n\\nEmployee.__dict__:\", Employee.__dict__)\n",
    "\n",
    "print(\"\\n\\n\\n\")\n",
    "del emp2\n",
    "\n",
    "print(\"\\n\\n\\n\")\n",
    "print(emp1)\n",
    "\n",
    "\n",
    "try:\n",
    "    print(Employee.__secretcompanycode)\n",
    "except:\n",
    "    print(\"\\n\\nAttruibire error no att found\")\n",
    "\n",
    "    \n",
    "try:\n",
    "    emp1.getCompanySecretCode()\n",
    "except:\n",
    "    print(\"\\n\\nAttruibire error no att found\")\n",
    "\n"
   ]
  },
  {
   "cell_type": "markdown",
   "metadata": {},
   "source": [
    "# POLYMORPISM\n",
    "#### The word polymorphism means having many forms. In programming, polymorphism means same function name (but different signatures) being uses for different types (overloading and overriding)"
   ]
  },
  {
   "cell_type": "code",
   "execution_count": 8,
   "metadata": {},
   "outputs": [
    {
     "name": "stdout",
     "output_type": "stream",
     "text": [
      "8\n",
      "5\n"
     ]
    }
   ],
   "source": [
    "# inbuilt polymorphic functions\n",
    "print(len(\"abhihsek\"))\n",
    "print(len([1,2,3,4,5]))"
   ]
  },
  {
   "cell_type": "code",
   "execution_count": 9,
   "metadata": {},
   "outputs": [
    {
     "name": "stdout",
     "output_type": "stream",
     "text": [
      "11\n",
      "15\n"
     ]
    }
   ],
   "source": [
    "# A simple Python function\n",
    "def add(x:int, y:int, z=0):\n",
    "    return x + y + z;\n",
    "\n",
    "print(add(5,6))\n",
    "print(add(5,5,5))"
   ]
  },
  {
   "cell_type": "code",
   "execution_count": 16,
   "metadata": {},
   "outputs": [
    {
     "name": "stdout",
     "output_type": "stream",
     "text": [
      "Bengaluru is capital of karnataka\n",
      "Kannada is the most widely spoken language of karnataka.\n",
      "Bengaluru is a silicon city\n",
      "Hyderabad is capital of Telangana State\n",
      "Telugu is most widely spoken language in Tenlangana state\n",
      "Hyderabad is a pearl city\n"
     ]
    }
   ],
   "source": [
    "#Polymorphism with class methods\n",
    "class KA(): \n",
    "    def capital(self): \n",
    "        print(\"Bengaluru is capital of karnataka\") \n",
    "  \n",
    "    def language(self): \n",
    "        print(\"Kannada is the most widely spoken language of karnataka.\") \n",
    "  \n",
    "    def type(self): \n",
    "        print(\"Bengaluru is a silicon city\") \n",
    "  \n",
    "class TS(): \n",
    "    def capital(self): \n",
    "        print(\"Hyderabad is capital of Telangana State\") \n",
    "  \n",
    "    def language(self): \n",
    "        print(\"Telugu is most widely spoken language in Tenlangana state\") \n",
    "  \n",
    "    def type(self): \n",
    "        print(\"Hyderabad is a pearl city\") \n",
    "  \n",
    "obj_ka = KA() \n",
    "obj_ts = TS() \n",
    "for state in (obj_ka, obj_ts): \n",
    "    state.capital() \n",
    "    state.language() \n",
    "    state.type() "
   ]
  },
  {
   "cell_type": "code",
   "execution_count": 17,
   "metadata": {},
   "outputs": [
    {
     "name": "stdout",
     "output_type": "stream",
     "text": [
      "There are many types of birds.\n",
      "Most of the birds can fly but some cannot.\n",
      "There are many types of birds.\n",
      "Sparrows can fly.\n",
      "There are many types of birds.\n",
      "Ostriches cannot fly.\n"
     ]
    }
   ],
   "source": [
    "#This process of re-implementing a method in the child class is known as Method Overriding.\n",
    "class Bird: \n",
    "  def intro(self): \n",
    "    print(\"There are many types of birds.\") \n",
    "      \n",
    "  def flight(self): \n",
    "    print(\"Most of the birds can fly but some cannot.\") \n",
    "    \n",
    "class sparrow(Bird): \n",
    "  def flight(self): \n",
    "    print(\"Sparrows can fly.\") \n",
    "      \n",
    "class ostrich(Bird): \n",
    "  def flight(self): \n",
    "    print(\"Ostriches cannot fly.\") \n",
    "      \n",
    "obj_bird = Bird() \n",
    "obj_spr = sparrow() \n",
    "obj_ost = ostrich() \n",
    "  \n",
    "obj_bird.intro() \n",
    "obj_bird.flight() \n",
    "  \n",
    "obj_spr.intro() \n",
    "obj_spr.flight() \n",
    "  \n",
    "obj_ost.intro() \n",
    "obj_ost.flight() "
   ]
  },
  {
   "cell_type": "code",
   "execution_count": null,
   "metadata": {},
   "outputs": [],
   "source": []
  },
  {
   "cell_type": "markdown",
   "metadata": {},
   "source": [
    "# OOP\n",
    "#### OOP combines data with the functions which act upon that data in a single structure. This makes it easy for us to find related parts of our code, since they are physically defined in close proximity to one another, and also makes it easier for us to write our code in such a way that the data inside each object is accessed as much as possible only through that object’s methods. "
   ]
  },
  {
   "cell_type": "markdown",
   "metadata": {},
   "source": [
    "# 1 ENCAPSULATION\n",
    "\n",
    "The most important principle of object orientation is encapsulation: the idea that data inside the object should only be accessed through a public interface – that is, the object’s methods.\n",
    "\n",
    "#### the functionality is defined in one place and not in multiple places.it is defined in a logical place – the place where the data is kept.\n",
    "#### data inside our object is not modified unexpectedly by external code in a completely different part of our program.\n",
    "#### when we use a method, we only need to know what result the method will produce – we don’t need to know details about the object’s internals in order to use it. \n"
   ]
  },
  {
   "cell_type": "markdown",
   "metadata": {},
   "source": [
    "# a) relationships between classes: composition and inheritance.\n",
    "\n",
    "Relationships like this can be one-to-one, one-to-many or many-to-many, and they can be unidirectional or bidirectional\n",
    "\n",
    "# Compostion And Aggregation"
   ]
  },
  {
   "cell_type": "code",
   "execution_count": null,
   "metadata": {},
   "outputs": [],
   "source": []
  },
  {
   "cell_type": "code",
   "execution_count": null,
   "metadata": {},
   "outputs": [],
   "source": []
  },
  {
   "cell_type": "code",
   "execution_count": 3,
   "metadata": {},
   "outputs": [
    {
     "name": "stdout",
     "output_type": "stream",
     "text": [
      "Abhi has enrolled to course Mathematics 1000\n"
     ]
    }
   ],
   "source": [
    "#based on these relationships on abstract level we can encapsulate attributes and functions appropriately\n",
    "\n",
    "class Student:\n",
    "    \"\"\"\n",
    "    Student and Course are Aggregate relationship\n",
    "    student can exist independently of a course, and a course can exist independently of a student\n",
    "    \"\"\"\n",
    "    def __init__(self, name, student_number):\n",
    "        self.name = name;\n",
    "        self.student_number = student_number;\n",
    "        self.classes = [];\n",
    "\n",
    "    def enrol(self, course_running):\n",
    "        self.classes.append(course_running);\n",
    "        course_running.addStudent(self);\n",
    "        print(\"{} has enrolled to course {}\".format(self.name, course_running.course.description));\n",
    "\n",
    "\n",
    "class Department:\n",
    "    \"\"\"\n",
    "    Department and Course are Composition relationship\n",
    "    A department owns a course. The course cannot exist without the department\n",
    "    \"\"\"\n",
    "    def __init__(self, name, department_code):\n",
    "        self.name = name;\n",
    "        self.department_code = department_code;\n",
    "        self.courses = {};\n",
    "\n",
    "    def addCourse(self, description, course_code, credits):\n",
    "        self.courses[course_code] = Course(description, course_code, credits, self);\n",
    "        return self.courses[course_code];\n",
    "\n",
    "\n",
    "class Course:\n",
    "    \"\"\"\n",
    "    Course and CourseRunnig strong relationship - Coposition relationship\n",
    "    A similar relationship exists between a course and its “runnings”: it is also bidirectional,\n",
    "    \"\"\"\n",
    "    def __init__(self, description, course_code, credits, department):\n",
    "        self.description = description;\n",
    "        self.course_code = course_code;\n",
    "        self.credits = credits;\n",
    "        self.department = department;\n",
    "        #self.department.add_course(self)\n",
    "\n",
    "        self.runnings = [];\n",
    "\n",
    "    def addRunning(self, year):\n",
    "        self.runnings.append(CourseRunning(self, year));\n",
    "        return self.runnings[-1];\n",
    "\n",
    "\n",
    "class CourseRunning:\n",
    "    \"\"\"\n",
    "    There exits fresh courses starting up every new year.\n",
    "    \"\"\"\n",
    "    def __init__(self, course, year):\n",
    "        self.course = course;\n",
    "        self.year = year;\n",
    "        self.students = [];\n",
    "\n",
    "    def addStudent(self, student):\n",
    "        self.students.append(student);\n",
    "\n",
    "\n",
    "maths_dept = Department(\"Mathematics and Applied Mathematics for ML\", \"MAM\");\n",
    "mam1000w = maths_dept.addCourse(\"Mathematics 1000\", \"MAM1000W\", 1);\n",
    "mam1000w_2020 = mam1000w.addRunning(2020);\n",
    "\n",
    "bob = Student(\"Abhi\", 1097);\n",
    "bob.enrol(mam1000w_2020);"
   ]
  },
  {
   "cell_type": "markdown",
   "metadata": {},
   "source": [
    "# Inheritance\n",
    "#### Inheritance is a way of arranging objects in a hierarchy from the most general to the most specific. An object which inherits from another object is considered to be a subtype of that object. \n",
    "\n",
    "### To read about args and kwargs refer this link\n",
    "https://www.geeksforgeeks.org/args-kwargs-python/\n",
    "A common convention is to add the specific parameters for each successive subclass to the beginning of the parameter list, and define all the other parameters using *args and **kwargs – then the subclass doesn’t need to know the details about the parent class’s parameters. Because of this, if we add a new parameter to the superclass’s __init__, we will only need to add it to all the places where we create that class or one of its subclasses – we won’t also have to update all the child class definitions to include the new parameter."
   ]
  },
  {
   "cell_type": "code",
   "execution_count": 4,
   "metadata": {},
   "outputs": [
    {
     "name": "stdout",
     "output_type": "stream",
     "text": [
      "Abhi you have registered for a course Mathematics 1000 \n",
      "John you have assigned to teach course Mathematics 1000 in department Mathematics and Applied Mathematics for ML\n"
     ]
    }
   ],
   "source": [
    "class Person:\n",
    "    \"\"\"\n",
    "    Super class of all have name, surname and unique id as variables\n",
    "    \"\"\"\n",
    "    def __init__(self, name:str, surname:str, number:int):\n",
    "        self.name = name;\n",
    "        self.surname = surname;\n",
    "        self.number = number;\n",
    "        \n",
    "class Student(Person):\n",
    "    \"\"\"\n",
    "    Child of Person with additional features of enrolling to a course\n",
    "    \"\"\"\n",
    "    UNDERGRADUATE, POSTGRADUATE = range(2);\n",
    "    \n",
    "    def __init__(self, student_type, *args, **kwargs):\n",
    "        self.student_type = student_type;\n",
    "        self.classes = [];\n",
    "        super(Student, self).__init__(*args, **kwargs);\n",
    "        \n",
    "    def enrol(self, course):\n",
    "        self.classes.append(course);\n",
    "        print(\"{} you have registered for a course {} \".format(self.name, course.description))\n",
    "\n",
    "class StaffMember(Person):\n",
    "    \"\"\"\n",
    "    Child class of Person with employment type\n",
    "    \"\"\"\n",
    "    PERMENENT, TEMPROARY = range(2);\n",
    "    \n",
    "    def __init__(self, employment_type, *args, **kwargs):\n",
    "        self.employment_type = employment_type;\n",
    "        super(StaffMember, self).__init__(*args, **kwargs)\n",
    "        \n",
    "   \n",
    "\n",
    "class Lecturer(StaffMember):\n",
    "    \"\"\"\n",
    "    Child class of Staffmember with fuctionality of assigning a teacher to course\n",
    "    \"\"\"\n",
    "    def __init__(self, *args, **kwargs):\n",
    "        self.courses_taught = [];\n",
    "        super(Lecturer, self).__init__(*args, **kwargs);\n",
    "        \n",
    "    def assignTeaching(self, course):\n",
    "        self.courses_taught.append(course);\n",
    "        print(\"{} you have assigned to teach course {} in department {}\".format(self.name, course.description, course.department.name))\n",
    "\n",
    "        \n",
    "#student        \n",
    "abhi = Student(Student.POSTGRADUATE, \"Abhi\", \"ab\", 523);\n",
    "abhi.enrol(mam1000w);\n",
    "\n",
    "#lecturer\n",
    "john = Lecturer(StaffMember.PERMENENT, \"John\", \"warner\", \"lect121\");\n",
    "john.assignTeaching(mam1000w);"
   ]
  },
  {
   "cell_type": "markdown",
   "metadata": {},
   "source": [
    "# Multiple inheritance\n",
    "### If classes B and C inherit from A and class D inherits from B and C, and both B and C have a method do_something, which do_something will D inherit? This ambiguity is known as the diamond problem, and different languages resolve it in different ways.\n",
    "\n",
    "If we use multiple inheritance, it is often a good idea for us to design our classes in a way which avoids the kind of ambiguity described above. One way of doing this is to split up optional functionality into mix-ins. A Mix-in is a class which is not intended to stand on its own – it exists to add extra functionality to another class through multiple inheritance."
   ]
  },
  {
   "cell_type": "code",
   "execution_count": 7,
   "metadata": {},
   "outputs": [],
   "source": [
    "class Person:\n",
    "    def __init__(self, name, surname, number):\n",
    "        self.name = name\n",
    "        self.surname = surname\n",
    "        self.number = number\n",
    "\n",
    "\n",
    "class LearnerMixin:\n",
    "    def __init__(self):\n",
    "        self.classes = []\n",
    "\n",
    "    def enrol(self, course):\n",
    "        self.classes.append(course)\n",
    "\n",
    "\n",
    "class TeacherMixin:\n",
    "    def __init__(self):\n",
    "        self.courses_taught = []\n",
    "\n",
    "    def assign_teaching(self, course):\n",
    "        self.courses_taught.append(course)\n",
    "\n",
    "\n",
    "class Tutor(Person, LearnerMixin, TeacherMixin):\n",
    "    def __init__(self, *args, **kwargs):\n",
    "        self.classes = []\n",
    "        self.courses_taught = []\n",
    "        super(Tutor, self).__init__(*args, **kwargs)\n",
    "\n",
    "abhi = Tutor(\"Abhi\", \"ab\", 635)\n",
    "abhi.enrol(mam1000w)\n",
    "abhi.assign_teaching(mam1000w)"
   ]
  },
  {
   "cell_type": "markdown",
   "metadata": {},
   "source": [
    "# Abstract classes and interfaces\n",
    "\n",
    "It is possible to create a class which can’t be instantiated. That means that we can’t use this class directly to create an object – we can only inherit from the class, and use the subclasses to create objects.\n",
    "\n",
    "\n",
    "We can create a class which serves as a template for suitable objects by defining a list of methods that these objects must implement. This class is not intended to be instantiated because all our method definitions are empty – all the insides of the methods must be implemented in a subclass."
   ]
  },
  {
   "cell_type": "code",
   "execution_count": 10,
   "metadata": {},
   "outputs": [
    {
     "name": "stdout",
     "output_type": "stream",
     "text": [
      "Area of square 25\n"
     ]
    }
   ],
   "source": [
    "class Shape2D:\n",
    "    \"\"\"\n",
    "    Any two-dimensional shape has an area, and any three-dimensional shape has a volume. The formulae for working out area and volume differ depending on what shape we have\n",
    "    \"\"\"\n",
    "    def area(self):\n",
    "        raise NotImplementedError()\n",
    "\n",
    "class shape3D:\n",
    "    def volume(self):\n",
    "        raise NotImplementedError()\n",
    "\n",
    "class Square(Shape2D):\n",
    "    \"\"\"\n",
    "        If an object inherits from 2DShape, it will gain that class’s default area method – but the default method raises an error which makes it clear to the user that a custom method must be defined in the child object\n",
    "    \"\"\"\n",
    "    def __init__(self, width):\n",
    "        self.width = width;\n",
    "    \n",
    "    def area(self):\n",
    "        return self.width ** 2;\n",
    "\n",
    "s = Square(5)\n",
    "print('Area of square {}'.format(s.area()))"
   ]
  },
  {
   "cell_type": "code",
   "execution_count": null,
   "metadata": {},
   "outputs": [],
   "source": []
  }
 ],
 "metadata": {
  "kernelspec": {
   "display_name": "Python 3",
   "language": "python",
   "name": "python3"
  },
  "language_info": {
   "codemirror_mode": {
    "name": "ipython",
    "version": 3
   },
   "file_extension": ".py",
   "mimetype": "text/x-python",
   "name": "python",
   "nbconvert_exporter": "python",
   "pygments_lexer": "ipython3",
   "version": "3.7.7"
  }
 },
 "nbformat": 4,
 "nbformat_minor": 4
}
