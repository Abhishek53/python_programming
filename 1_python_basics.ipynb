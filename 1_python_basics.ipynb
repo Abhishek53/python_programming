{
 "cells": [
  {
   "cell_type": "markdown",
   "id": "alone-damages",
   "metadata": {},
   "source": [
    "<img src=\"1_python_basics_images/python-logo.png\">\n",
    "\n",
    "\n",
    "# WHAT IS PYTHON PROGRAMMING LANGUAGE?\n",
    "* Python is a high-level, interpreted, interactive and object-oriented scripting language.\n",
    "<br />\n",
    "* Python is designed to be highly readable. \n",
    "<br />\n",
    "* It uses English like keywords in writing programs which makes it a programming language that anyone can learn and easy to use.\n",
    "\n",
    "\n",
    "# What python inventor say? 🕴\n",
    "* Python was developed by Guido van Rossum in early nineties at National Research Institute for Mathematics and Computer Science in the Netherlands\n",
    "\n",
    "[![IMAGE ALT TEXT HERE](http://img.youtube.com/vi/J0Aq44Pze-w/0.jpg)](http://www.youtube.com/watch?v=J0Aq44Pze-w)\n",
    "\n",
    "<br /> \n",
    "\n",
    "\n",
    "# How python program works? 🤔\n",
    "<img src=\"1_python_basics_images/what_is_python.png\" align=\"center\">\n",
    "\n",
    "<br />\n",
    "\n",
    "#  Lets get started with code 😄😄"
   ]
  },
  {
   "cell_type": "code",
   "execution_count": 1,
   "id": "formed-record",
   "metadata": {},
   "outputs": [
    {
     "name": "stdout",
     "output_type": "stream",
     "text": [
      "Hello python welcome\n"
     ]
    }
   ],
   "source": [
    "#hello world.\n",
    "print(\"Hello python welcome\")"
   ]
  },
  {
   "cell_type": "code",
   "execution_count": 2,
   "id": "coastal-story",
   "metadata": {},
   "outputs": [
    {
     "name": "stdout",
     "output_type": "stream",
     "text": [
      "Hello python welcome\n"
     ]
    }
   ],
   "source": [
    "#hello world.\n",
    "print('Hello python welcome')"
   ]
  },
  {
   "cell_type": "markdown",
   "id": "animated-summer",
   "metadata": {},
   "source": [
    "# Lets get familiar with print statemet 🕵"
   ]
  },
  {
   "cell_type": "code",
   "execution_count": 3,
   "id": "working-candy",
   "metadata": {},
   "outputs": [
    {
     "name": "stdout",
     "output_type": "stream",
     "text": [
      "Hello\n",
      "python\n",
      "welcome\n"
     ]
    }
   ],
   "source": [
    "#print every word in different line\n",
    "print(\"Hello\")\n",
    "print(\"python\")\n",
    "print(\"welcome\")"
   ]
  },
  {
   "cell_type": "code",
   "execution_count": 4,
   "id": "political-filling",
   "metadata": {},
   "outputs": [
    {
     "name": "stdout",
     "output_type": "stream",
     "text": [
      "Hello\n",
      "python\n",
      "welcome\n"
     ]
    }
   ],
   "source": [
    "#print every workd in different line\n",
    "print(\"Hello\\npython\\nwelcome\")"
   ]
  },
  {
   "cell_type": "code",
   "execution_count": 5,
   "id": "romantic-windows",
   "metadata": {},
   "outputs": [
    {
     "name": "stdout",
     "output_type": "stream",
     "text": [
      "Hello python welcome "
     ]
    }
   ],
   "source": [
    "#print multipe print statements in same line\n",
    "print(\"Hello \", end='')\n",
    "print(\"python \", end='')\n",
    "print(\"welcome \", end='')"
   ]
  },
  {
   "cell_type": "code",
   "execution_count": 6,
   "id": "armed-craft",
   "metadata": {},
   "outputs": [
    {
     "name": "stdout",
     "output_type": "stream",
     "text": [
      "Hello\tpython\twelcome\n"
     ]
    }
   ],
   "source": [
    "#print all words in same line with tab seperated\n",
    "print(\"Hello\\tpython\\twelcome\")"
   ]
  },
  {
   "cell_type": "code",
   "execution_count": 7,
   "id": "greek-nursery",
   "metadata": {},
   "outputs": [
    {
     "name": "stdout",
     "output_type": "stream",
     "text": [
      "You are gettig familiar with python \n",
      "You are gettig familiar with python \n",
      "You are gettig familiar with python \n",
      "You are gettig familiar with python \n",
      "You are gettig familiar with python \n",
      "\n"
     ]
    }
   ],
   "source": [
    "#print same sentence n times\n",
    "print(\"You are gettig familiar with python \\n\" * 5)"
   ]
  },
  {
   "cell_type": "markdown",
   "id": "retained-drove",
   "metadata": {},
   "source": [
    "# Escape sequence\n",
    "<img src=\"1_python_basics_images/escape_sequence.png\" align=\"left\">"
   ]
  },
  {
   "cell_type": "code",
   "execution_count": 8,
   "id": "premier-moment",
   "metadata": {
    "scrolled": true
   },
   "outputs": [
    {
     "name": "stdout",
     "output_type": "stream",
     "text": [
      "Hello\b\n"
     ]
    }
   ],
   "source": [
    "#Use back space escape sequence\n",
    "print(\"Hello\\b\")"
   ]
  },
  {
   "cell_type": "markdown",
   "id": "through-least",
   "metadata": {},
   "source": [
    "# <u> Lets get our basics strong </u> 💪"
   ]
  },
  {
   "cell_type": "markdown",
   "id": "encouraging-scratch",
   "metadata": {},
   "source": [
    "## 1. Variables\n",
    "Variables are nothing but reserved memory locations to store values. It means that when\n",
    "you create a variable, you reserve some space in the memory.\n",
    "\n",
    "ex: temp_var\n",
    "\n",
    "<img src=\"1_python_basics_images/variable_bucket.jpg\">\n",
    "\n",
    "---\n",
    "\n",
    "## 1. Python Identifier\n",
    "A Python identifier is a name used to identify a variable, function, class, module or other\n",
    "object. \n",
    "\n",
    "#### condition of identifier :\n",
    "[A-Za-z_][A-Za-z0-9_]\n",
    "\n",
    "---\n",
    "\n",
    "## 2. Python Reserved Words\n",
    "\n",
    "Python reserved words are resereved for specific operations. These words can not be used as constants, variables or any other identifiers.\n",
    "\n",
    "* and, exec, Not, as, finally, or, assert, for, pass, \n",
    "* break, from, print, class, global, raise, \n",
    "* continue, if, return, def, import, try, del, \n",
    "* in, while, elif, is, with, else, lambda, yield, except\n",
    "\n",
    "---\n",
    "# Python Operators\n",
    "1. Python Arithmetic Operators\n",
    "2. Python Comparison Operators\n",
    "3. Python Logical Operators\n",
    "4. Python Identity Operators\n",
    "\n",
    "5. Python Assignment Operators \n",
    "6. Python Membership Operators\n",
    "7. Python Bitwise Operators\n",
    "\n",
    "# 1. <u>Arithmetic Operators</u>\n",
    "<img src=\"1_python_basics_images/arithmetic_operators.jpg\" >"
   ]
  },
  {
   "cell_type": "code",
   "execution_count": 9,
   "id": "naked-product",
   "metadata": {},
   "outputs": [
    {
     "ename": "SyntaxError",
     "evalue": "invalid syntax (<ipython-input-9-d1729eaaa307>, line 4)",
     "output_type": "error",
     "traceback": [
      "\u001b[0;36m  File \u001b[0;32m\"<ipython-input-9-d1729eaaa307>\"\u001b[0;36m, line \u001b[0;32m4\u001b[0m\n\u001b[0;31m    temp var = 10\u001b[0m\n\u001b[0m         ^\u001b[0m\n\u001b[0;31mSyntaxError\u001b[0m\u001b[0;31m:\u001b[0m invalid syntax\n"
     ]
    }
   ],
   "source": [
    "\n",
    "#common mistakes in variable.\n",
    "temp_var = 10\n",
    "_temp_var = 10\n",
    "temp var = 10\n",
    "2temp_var = 10\n",
    "temp_var2 = 10\n",
    "Temp_var = 10"
   ]
  },
  {
   "cell_type": "code",
   "execution_count": 10,
   "id": "adapted-inclusion",
   "metadata": {},
   "outputs": [
    {
     "name": "stdout",
     "output_type": "stream",
     "text": [
      "22 + 10 = 32\n",
      "22 - 10 = 32\n",
      "22 * 10 = 220\n",
      "22 / 10 = 2.2\n",
      "22 // 10 = 2\n",
      "22 % 10 = 2\n",
      "22 ** 10 = 26559922791424\n"
     ]
    }
   ],
   "source": [
    "# Perform Arithmetic operation using variables\n",
    "a = 22\n",
    "b = 10\n",
    "\n",
    "addition = a + b\n",
    "print(\"{} + {} = {}\".format(a,b,addition))\n",
    "\n",
    "subtraction = a - b\n",
    "print(\"{} - {} = {}\".format(a,b,addition))\n",
    "\n",
    "\n",
    "multiplication = a * b\n",
    "print(\"{} * {} = {}\".format(a,b,multiplication))\n",
    "\n",
    "division = a / b\n",
    "print(\"{} / {} = {}\".format(a,b,division))\n",
    "\n",
    "floor_division = a // b\n",
    "print(\"{} // {} = {}\".format(a,b,floor_division))\n",
    "\n",
    "modulus = a % b\n",
    "print(\"{} % {} = {}\".format(a,b,modulus))\n",
    "\n",
    "exponential = a ** b\n",
    "print(\"{} ** {} = {}\".format(a,b,exponential))\n"
   ]
  },
  {
   "cell_type": "markdown",
   "id": "pleasant-wright",
   "metadata": {},
   "source": [
    "# 2. <u>Comparision Operators</u>\n",
    "<img src=\"1_python_basics_images/comparision_operators.jpg\">"
   ]
  },
  {
   "cell_type": "code",
   "execution_count": 11,
   "id": "adolescent-indian",
   "metadata": {},
   "outputs": [
    {
     "name": "stdout",
     "output_type": "stream",
     "text": [
      "5 == 10 is False\n",
      "5 != 10 is True\n",
      "5 > 10 is False\n",
      "5 < 10 is True\n",
      "5 >= 10 is False\n",
      "5 <= 10 is True\n"
     ]
    }
   ],
   "source": [
    "# Perform comparision opetations using variables\n",
    "a = 5\n",
    "b = 10\n",
    "\n",
    "e = (a == b)\n",
    "print(f\"{a} == {b} is {e}\")\n",
    "\n",
    "ne = (a != b)\n",
    "print(f\"{a} != {b} is {ne}\")\n",
    "\n",
    "gt = (a > b)\n",
    "print(f\"{a} > {b} is {gt}\")\n",
    "\n",
    "lt = (a < b)\n",
    "print(f\"{a} < {b} is {lt}\")\n",
    "\n",
    "gte = (a >= b)\n",
    "print(f\"{a} >= {b} is {gt}\")\n",
    "\n",
    "lte = (a <= b)\n",
    "print(f\"{a} <= {b} is {lt}\")"
   ]
  },
  {
   "cell_type": "markdown",
   "id": "parliamentary-feelings",
   "metadata": {},
   "source": [
    "# 3. <u>Logical operators</u>\n",
    "<img src=\"1_python_basics_images/logical_operators.jpg\" />\n",
    "\n",
    "---\n",
    "\n",
    "# AND\n",
    "\n",
    "<img src=\"1_python_basics_images/logical_and_table.png\" />\n",
    "\n",
    "---\n",
    "# OR\n",
    "\n",
    "<img src=\"1_python_basics_images/logical_or_table.png\" />"
   ]
  },
  {
   "cell_type": "code",
   "execution_count": 12,
   "id": "african-motor",
   "metadata": {},
   "outputs": [
    {
     "name": "stdout",
     "output_type": "stream",
     "text": [
      "True and Flase = False\n",
      "Ture or False = True\n",
      "not(True) = False\n",
      "not(False) = True\n"
     ]
    }
   ],
   "source": [
    "#logical operators\n",
    "logical_and = (5 < 10 and 15 < 10)\n",
    "print(f\"True and Flase = {logical_and}\")\n",
    "\n",
    "logical_or = (5 < 10 or 15 < 10)\n",
    "print(f\"Ture or False = {logical_or}\")\n",
    "\n",
    "nt = not True\n",
    "nf = not False\n",
    "print(f\"not(True) = {nt}\")\n",
    "print(f\"not(False) = {nf}\")"
   ]
  },
  {
   "cell_type": "markdown",
   "id": "utility-institute",
   "metadata": {},
   "source": [
    "# 4. <u>Identity operators</u>\n",
    "<img src=\"1_python_basics_images/identity_operators.jpg\">"
   ]
  },
  {
   "cell_type": "code",
   "execution_count": 13,
   "id": "suspected-wisdom",
   "metadata": {},
   "outputs": [
    {
     "name": "stdout",
     "output_type": "stream",
     "text": [
      "5 is 6 = False\n",
      "5 is 5 = True\n",
      "5 is not 5 = False\n"
     ]
    }
   ],
   "source": [
    "#identity operators\n",
    "a = 5\n",
    "b = 6\n",
    "print(f\"{a} is {b} = {a is b}\")\n",
    "b = a\n",
    "print(f\"{a} is {b} = {a is b}\")\n",
    "\n",
    "print(f\"{a} is not {b} = {a is not b}\")"
   ]
  },
  {
   "cell_type": "markdown",
   "id": "broken-terrorist",
   "metadata": {},
   "source": [
    "# KEEP LEARNING, KEEP TEACHING, KEEP SHARING !!!\n",
    "# Thank YOU, Lets meet in next tutorial  🙂"
   ]
  },
  {
   "cell_type": "markdown",
   "id": "compressed-threat",
   "metadata": {},
   "source": []
  }
 ],
 "metadata": {
  "kernelspec": {
   "display_name": "Python 3",
   "language": "python",
   "name": "python3"
  },
  "language_info": {
   "codemirror_mode": {
    "name": "ipython",
    "version": 3
   },
   "file_extension": ".py",
   "mimetype": "text/x-python",
   "name": "python",
   "nbconvert_exporter": "python",
   "pygments_lexer": "ipython3",
   "version": "3.8.5"
  }
 },
 "nbformat": 4,
 "nbformat_minor": 5
}
